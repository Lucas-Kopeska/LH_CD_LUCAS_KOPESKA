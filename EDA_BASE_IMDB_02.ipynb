{
  "nbformat": 4,
  "nbformat_minor": 0,
  "metadata": {
    "colab": {
      "provenance": []
    },
    "kernelspec": {
      "name": "python3",
      "display_name": "Python 3"
    },
    "language_info": {
      "name": "python"
    }
  },
  "cells": [
    {
      "cell_type": "code",
      "source": [
        "import pandas as pd\n",
        "\n",
        "df = pd.read_csv(\"desafio_indicium_imdb2.csv\")"
      ],
      "metadata": {
        "id": "RNeyahc6RPTq"
      },
      "execution_count": 61,
      "outputs": []
    },
    {
      "cell_type": "markdown",
      "source": [
        "ATORES QUE MAIS APARECEM NO DATAFRAME"
      ],
      "metadata": {
        "id": "3OTW4TbxRFWH"
      }
    },
    {
      "cell_type": "code",
      "execution_count": 62,
      "metadata": {
        "colab": {
          "base_uri": "https://localhost:8080/"
        },
        "id": "ulWi14-qRALT",
        "outputId": "3582b4e3-09e2-4c14-fbe8-a235ae3d5fc6"
      },
      "outputs": [
        {
          "output_type": "stream",
          "name": "stdout",
          "text": [
            "Top 10 atores que mais aparecem no dataframe: \n",
            "Robert De Niro       17\n",
            "Tom Hanks            14\n",
            "Al Pacino            13\n",
            "Brad Pitt            12\n",
            "Clint Eastwood       11\n",
            "Leonardo DiCaprio    11\n",
            "Christian Bale       11\n",
            "Matt Damon           11\n",
            "Denzel Washington     9\n",
            "Johnny Depp           9\n",
            "Name: count, dtype: int64\n"
          ]
        }
      ],
      "source": [
        "atores=pd.concat([df['Star1'], df['Star2'], df['Star3'], df['Star4'] ])\n",
        "top10_atores=atores.value_counts()\n",
        "print(f\"Top 10 atores que mais aparecem no dataframe: \\n{top10_atores.head(10)}\")"
      ]
    },
    {
      "cell_type": "markdown",
      "source": [
        "GÊNEROS QUE MAIS APARECEM NO DATAFRAME"
      ],
      "metadata": {
        "id": "dnz8x6FuTUHl"
      }
    },
    {
      "cell_type": "code",
      "source": [
        "generos = df['Genre'].str.split(', ')\n",
        "gen_separados=df.assign(gen_ind=generos).explode('gen_ind')\n",
        "\n",
        "top10_generos=gen_separados[\"gen_ind\"].value_counts()\n",
        "\n",
        "print(top10_generos.head(10))"
      ],
      "metadata": {
        "colab": {
          "base_uri": "https://localhost:8080/"
        },
        "id": "StraCwyYTYz4",
        "outputId": "cf87c81a-a592-4d0c-e6b8-2e93deb23d2a"
      },
      "execution_count": 63,
      "outputs": [
        {
          "output_type": "stream",
          "name": "stdout",
          "text": [
            "gen_ind\n",
            "Drama        596\n",
            "Comedy       191\n",
            "Crime        171\n",
            "Adventure    170\n",
            "Action       156\n",
            "Thriller     110\n",
            "Romance      107\n",
            "Biography     96\n",
            "Mystery       84\n",
            "Animation     67\n",
            "Name: count, dtype: int64\n"
          ]
        }
      ]
    },
    {
      "cell_type": "markdown",
      "source": [
        "DIRETORES QUE MAIS APARECEM NO DATAFRAME"
      ],
      "metadata": {
        "id": "J9XlHPmEVBIb"
      }
    },
    {
      "cell_type": "code",
      "source": [
        "top20_diretores=df[\"Director\"].value_counts()\n",
        "\n",
        "print(f\"Os diretores que mais aparecem nos filmes são: \\n{top20_diretores.head(20)}\")"
      ],
      "metadata": {
        "colab": {
          "base_uri": "https://localhost:8080/"
        },
        "id": "1Twenjv_VE8-",
        "outputId": "406670dc-c314-44ab-ff76-065bc50f3174"
      },
      "execution_count": 64,
      "outputs": [
        {
          "output_type": "stream",
          "name": "stdout",
          "text": [
            "Os diretores que mais aparecem nos filmes são: \n",
            "Director\n",
            "Steven Spielberg     13\n",
            "Martin Scorsese      10\n",
            "Alfred Hitchcock      9\n",
            "Woody Allen           8\n",
            "Clint Eastwood        8\n",
            "David Fincher         8\n",
            "Quentin Tarantino     8\n",
            "Christopher Nolan     8\n",
            "Rob Reiner            7\n",
            "Hayao Miyazaki        7\n",
            "Billy Wilder          6\n",
            "Joel Coen             6\n",
            "Sergio Leone          6\n",
            "Wes Anderson          6\n",
            "Richard Linklater     6\n",
            "Stanley Kubrick       6\n",
            "Ridley Scott          6\n",
            "Ron Howard            5\n",
            "Alfonso Cuarón        5\n",
            "Denis Villeneuve      5\n",
            "Name: count, dtype: int64\n"
          ]
        }
      ]
    },
    {
      "cell_type": "markdown",
      "source": [
        "MÉDIA DO IMDB_RATING DOS TOP20 DIRETORES"
      ],
      "metadata": {
        "id": "Zb-q2lzsWYWi"
      }
    },
    {
      "cell_type": "code",
      "source": [
        "lista_diretores=top20_diretores.head(20).index\n",
        "df_top20_dir=df[df[\"Director\"].isin(lista_diretores)]\n",
        "media_dir=df_top20_dir.groupby('Director')['IMDB_Rating'].mean().sort_values(ascending=False)\n",
        "\n",
        "print(f\"Média de IMDB por diretores do top 20:{media_dir}\")"
      ],
      "metadata": {
        "colab": {
          "base_uri": "https://localhost:8080/"
        },
        "id": "8p68p5GtWfTf",
        "outputId": "3acc3bd5-ab1e-4a2e-857c-85ae9915130d"
      },
      "execution_count": 65,
      "outputs": [
        {
          "output_type": "stream",
          "name": "stdout",
          "text": [
            "Média de IMDB por diretores do top 20:Director\n",
            "Christopher Nolan    8.462500\n",
            "Stanley Kubrick      8.266667\n",
            "Sergio Leone         8.266667\n",
            "Billy Wilder         8.200000\n",
            "Quentin Tarantino    8.175000\n",
            "Martin Scorsese      8.170000\n",
            "Alfred Hitchcock     8.144444\n",
            "Hayao Miyazaki       8.142857\n",
            "Ridley Scott         8.083333\n",
            "David Fincher        8.037500\n",
            "Steven Spielberg     8.030769\n",
            "Denis Villeneuve     7.980000\n",
            "Ron Howard           7.920000\n",
            "Clint Eastwood       7.912500\n",
            "Richard Linklater    7.900000\n",
            "Wes Anderson         7.833333\n",
            "Rob Reiner           7.828571\n",
            "Joel Coen            7.816667\n",
            "Woody Allen          7.800000\n",
            "Alfonso Cuarón       7.760000\n",
            "Name: IMDB_Rating, dtype: float64\n"
          ]
        }
      ]
    },
    {
      "cell_type": "markdown",
      "source": [
        "MELHORES NOTAS POR GÊNERO"
      ],
      "metadata": {
        "id": "VWdvoUpQ_hlp"
      }
    },
    {
      "cell_type": "code",
      "source": [
        "notas_genero= gen_separados.groupby('gen_ind').agg(\n",
        "    media_imdb=('IMDB_Rating', 'mean'),\n",
        "    vezes_gen=('Series_Title', 'count')\n",
        ").sort_values(by='media_imdb', ascending=False)\n",
        "\n",
        "print(f\"Média de Nota IMDB por gênero: \\n{notas_genero.head(20)}\")\n",
        "\n",
        "#agg = agregar para média"
      ],
      "metadata": {
        "colab": {
          "base_uri": "https://localhost:8080/"
        },
        "id": "tBEYNiOY_kKE",
        "outputId": "11ac10b5-f121-42ed-af70-5815416f2967"
      },
      "execution_count": 66,
      "outputs": [
        {
          "output_type": "stream",
          "name": "stdout",
          "text": [
            "Média de Nota IMDB por gênero: \n",
            "           media_imdb  vezes_gen\n",
            "gen_ind                         \n",
            "Western      8.037500         16\n",
            "War          8.018919         37\n",
            "Film-Noir    8.009091         11\n",
            "Sci-Fi       7.991803         61\n",
            "Mystery      7.969048         84\n",
            "Adventure    7.962941        170\n",
            "Crime        7.959649        171\n",
            "Drama        7.951678        596\n",
            "Action       7.946795        156\n",
            "Romance      7.929907        107\n",
            "Sport        7.926316         19\n",
            "History      7.925581         43\n",
            "Biography    7.925000         96\n",
            "Animation    7.922388         67\n",
            "Thriller     7.920909        110\n",
            "Musical      7.914286         14\n",
            "Music        7.909091         33\n",
            "Fantasy      7.905357         56\n",
            "Comedy       7.896859        191\n",
            "Family       7.889583         48\n"
          ]
        }
      ]
    },
    {
      "cell_type": "code",
      "source": [
        "generos=df['Genre'].str.split(', ')\n",
        "gen_separados = df.assign(gen_ind=generos).explode('gen_ind')\n",
        "\n",
        "def media_minutos_top20(group):\n",
        "    top20_filmes= group.nlargest(20, 'IMDB_Rating')\n",
        "    return top20_filmes['Runtime'].mean()\n",
        "\n",
        "duracao=gen_separados.groupby('gen_ind').apply(media_minutos_top20)\n",
        "duracao_ordenada=duracao.sort_values(ascending=False)\n",
        "\n",
        "print(f\"Média de minutos dos top 20 filmes de cada gênero:{duracao_ordenada.head(21)}\")"
      ],
      "metadata": {
        "id": "gdoBxQGrHMY4",
        "colab": {
          "base_uri": "https://localhost:8080/"
        },
        "outputId": "5d00c60a-8364-4567-df49-05190ee0f247"
      },
      "execution_count": 67,
      "outputs": [
        {
          "output_type": "stream",
          "name": "stdout",
          "text": [
            "Média de minutos dos top 20 filmes de cada gênero:gen_ind\n",
            "Drama        156.200000\n",
            "History      155.550000\n",
            "Biography    152.900000\n",
            "Action       148.500000\n",
            "Musical      145.571429\n",
            "Adventure    143.700000\n",
            "Crime        141.750000\n",
            "Western      134.562500\n",
            "Sci-Fi       134.450000\n",
            "War          133.950000\n",
            "Sport        132.631579\n",
            "Mystery      126.450000\n",
            "Thriller     125.550000\n",
            "Music        122.600000\n",
            "Romance      121.700000\n",
            "Comedy       115.300000\n",
            "Fantasy      114.500000\n",
            "Family       112.600000\n",
            "Horror       107.400000\n",
            "Animation    104.900000\n",
            "Film-Noir    101.363636\n",
            "dtype: float64\n"
          ]
        },
        {
          "output_type": "stream",
          "name": "stderr",
          "text": [
            "/tmp/ipython-input-3794801104.py:8: DeprecationWarning: DataFrameGroupBy.apply operated on the grouping columns. This behavior is deprecated, and in a future version of pandas the grouping columns will be excluded from the operation. Either pass `include_groups=False` to exclude the groupings or explicitly select the grouping columns after groupby to silence this warning.\n",
            "  duracao=gen_separados.groupby('gen_ind').apply(media_minutos_top20)\n"
          ]
        }
      ]
    },
    {
      "cell_type": "markdown",
      "source": [
        "MÉDIA DE VOTOS DO TOP 20 POR GÊNERO"
      ],
      "metadata": {
        "id": "GqS72xo6ZE2u"
      }
    },
    {
      "cell_type": "code",
      "source": [
        "generos=df['Genre'].str.split(', ')\n",
        "gen_separados = df.assign(gen_ind=generos).explode('gen_ind')\n",
        "\n",
        "def media_votos_top20(group):\n",
        "  top_20_filmes = group.nlargest(20, \"IMDB_Rating\")\n",
        "  return top_20_filmes[\"No_of_Votes\"].mean()\n",
        "\n",
        "votos=gen_separados.groupby('gen_ind').apply(media_votos_top20)\n",
        "maiores_votos=votos.sort_values(ascending=False)\n",
        "\n",
        "print(f\"A média de votos dos top 20 filmes, considerando o gênero é de: {maiores_votos.head(21).to_string(float_format='{:.0f}'.format)} \")"
      ],
      "metadata": {
        "colab": {
          "base_uri": "https://localhost:8080/"
        },
        "id": "8PES1YNoZH_4",
        "outputId": "75a1403f-e6ad-491c-ad93-6e2f95f312a8"
      },
      "execution_count": 68,
      "outputs": [
        {
          "output_type": "stream",
          "name": "stdout",
          "text": [
            "A média de votos dos top 20 filmes, considerando o gênero é de: gen_ind\n",
            "Drama       1319619\n",
            "Action      1117516\n",
            "Adventure   1060791\n",
            "Crime       1012085\n",
            "Sci-Fi       891018\n",
            "Thriller     627323\n",
            "Biography    542983\n",
            "Animation    540956\n",
            "Mystery      535346\n",
            "Fantasy      534676\n",
            "Comedy       419756\n",
            "Romance      382811\n",
            "War          350422\n",
            "History      331524\n",
            "Family       294828\n",
            "Horror       279799\n",
            "Western      272667\n",
            "Sport        256619\n",
            "Music        187786\n",
            "Film-Noir     93989\n",
            "Musical       85256 \n"
          ]
        },
        {
          "output_type": "stream",
          "name": "stderr",
          "text": [
            "/tmp/ipython-input-1481279033.py:8: DeprecationWarning: DataFrameGroupBy.apply operated on the grouping columns. This behavior is deprecated, and in a future version of pandas the grouping columns will be excluded from the operation. Either pass `include_groups=False` to exclude the groupings or explicitly select the grouping columns after groupby to silence this warning.\n",
            "  votos=gen_separados.groupby('gen_ind').apply(media_votos_top20)\n"
          ]
        }
      ]
    },
    {
      "cell_type": "markdown",
      "source": [
        "DÉCADAS QUE MAIS SE REPETEM NOS 100 MELHORES FILMES"
      ],
      "metadata": {
        "id": "4yS_4SJGg8_w"
      }
    },
    {
      "cell_type": "code",
      "source": [
        "df['Released_Year'] = pd.to_numeric(df['Released_Year'])\n",
        "\n",
        "df['Decada']=(df['Released_Year'] // 10) * 10\n",
        "melhores_100= df.head(100)\n",
        "decadas= melhores_100['Decada'].value_counts()\n",
        "\n",
        "print(decadas)\n"
      ],
      "metadata": {
        "colab": {
          "base_uri": "https://localhost:8080/"
        },
        "id": "StoKc2dAhCJj",
        "outputId": "707c92b8-13f6-414d-d654-efb0142d55e9"
      },
      "execution_count": 69,
      "outputs": [
        {
          "output_type": "stream",
          "name": "stdout",
          "text": [
            "Decada\n",
            "1990    23\n",
            "2000    21\n",
            "2010    20\n",
            "1980    12\n",
            "1970     9\n",
            "1960     7\n",
            "1950     4\n",
            "1940     2\n",
            "1930     2\n",
            "Name: count, dtype: int64\n"
          ]
        }
      ]
    },
    {
      "cell_type": "markdown",
      "source": [
        "### PERGUNTA 2"
      ],
      "metadata": {
        "id": "4iyi2dLhobkC"
      }
    },
    {
      "cell_type": "markdown",
      "source": [
        "A) Qual filme você recomendaria para uma pessoa que você não conhece?"
      ],
      "metadata": {
        "id": "zil_ATsQok5H"
      }
    },
    {
      "cell_type": "code",
      "source": [
        "df['Decada']=(df['Released_Year'] // 10) * 10\n",
        "lista_diretores= ['Christopher Nolan', 'Steven Spielberg']\n",
        "lista_atores=['Robert De Niro', 'Tom Hanks', 'Al Pacino', 'Brad Pitt']\n",
        "\n",
        "decada_ideal = (df['Decada'] == 1990)\n",
        "genero_ideal = df['Genre'].str.contains('Drama')\n",
        "diretor_ideal = df['Director'].isin(lista_diretores)\n",
        "ator_ideal= (df['Star1'].isin(lista_atores) |\n",
        "                 df['Star2'].isin(lista_atores) |\n",
        "                 df['Star3'].isin(lista_atores) |\n",
        "                 df['Star4'].isin(lista_atores))\n",
        "\n",
        "possiveis_filmes=df[decada_ideal &\n",
        "                         genero_ideal &\n",
        "                         diretor_ideal &\n",
        "                         ator_ideal]\n",
        "print(possiveis_filmes[['Series_Title', 'Released_Year', 'IMDB_Rating', 'Director', 'Star1']])"
      ],
      "metadata": {
        "colab": {
          "base_uri": "https://localhost:8080/"
        },
        "id": "pU4TPDpsoiUv",
        "outputId": "7770131e-84f9-43ca-a627-5c78618c093a"
      },
      "execution_count": 70,
      "outputs": [
        {
          "output_type": "stream",
          "name": "stdout",
          "text": [
            "           Series_Title  Released_Year  IMDB_Rating          Director  \\\n",
            "21  Saving Private Ryan           1998          8.6  Steven Spielberg   \n",
            "\n",
            "        Star1  \n",
            "21  Tom Hanks  \n"
          ]
        }
      ]
    },
    {
      "cell_type": "markdown",
      "source": [
        "B) Quais são os principais fatores que estão relacionados com alta expectativa de faturamento de um filme?"
      ],
      "metadata": {
        "id": "7ZTNbIoHzV7r"
      }
    },
    {
      "cell_type": "code",
      "source": [
        "df_faturamento=df.nlargest(50, \"Gross\")\n",
        "\n",
        "#generos\n",
        "generos_top50=df_faturamento[\"Genre\"].str.split(\",\").explode()\n",
        "quantos_generos=generos_top50.value_counts()\n",
        "print(f\"Os gêneros mais repetidos no top50: \\n{quantos_generos.head(10)}\")\n",
        "\n",
        "#atores\n",
        "atores_top50=pd.concat([\n",
        "    df_faturamento[\"Star1\"],\n",
        "    df_faturamento[\"Star2\"],\n",
        "    df_faturamento[\"Star3\"],\n",
        "    df_faturamento[\"Star4\"]\n",
        "])\n",
        "\n",
        "quantos_atores=atores_top50.value_counts()\n",
        "print(f\"\\n\\n Os atores mais presentes no top 50: \\n{quantos_atores.head(10)}\")\n",
        "\n",
        "#diretores\n",
        "diretores_top50=df_faturamento[\"Director\"].value_counts()\n",
        "print(f\"\\n \\n Os diretores que mais se repetiram no top 50 faturamento foram: {diretores_top50.head(10)}\")\n"
      ],
      "metadata": {
        "colab": {
          "base_uri": "https://localhost:8080/"
        },
        "id": "gei_VEvvzYfB",
        "outputId": "bb9020a4-8a5e-4cd6-f798-c751694af1d8"
      },
      "execution_count": 71,
      "outputs": [
        {
          "output_type": "stream",
          "name": "stdout",
          "text": [
            "Os gêneros mais repetidos no top50: \n",
            "Genre\n",
            " Adventure    36\n",
            "Action        26\n",
            " Comedy       13\n",
            "Animation     11\n",
            " Fantasy      10\n",
            " Sci-Fi       10\n",
            " Drama         8\n",
            "Adventure      5\n",
            " Family        5\n",
            "Drama          4\n",
            "Name: count, dtype: int64\n",
            "\n",
            "\n",
            " Os atores mais presentes no top 50: \n",
            "Robert Downey Jr.    5\n",
            "Daniel Radcliffe     5\n",
            "Rupert Grint         5\n",
            "Emma Watson          4\n",
            "Ian McKellen         4\n",
            "Orlando Bloom        4\n",
            "Elijah Wood          3\n",
            "Tom Hanks            3\n",
            "Joe Russo            3\n",
            "Mark Hamill          3\n",
            "Name: count, dtype: int64\n",
            "\n",
            " \n",
            " Os diretores que mais se repetiram no top 50 faturamento foram: Director\n",
            "Peter Jackson        4\n",
            "Pete Docter          3\n",
            "Anthony Russo        3\n",
            "David Yates          3\n",
            "Christopher Nolan    3\n",
            "James Gunn           2\n",
            "Steven Spielberg     2\n",
            "Brad Bird            2\n",
            "James Cameron        2\n",
            "Chris Columbus       2\n",
            "Name: count, dtype: int64\n"
          ]
        }
      ]
    },
    {
      "cell_type": "markdown",
      "source": [],
      "metadata": {
        "id": "0w5cO3ZT_IYa"
      }
    },
    {
      "cell_type": "code",
      "source": [
        "df.to_csv(\"desafio_indicium_imdb3.csv\")"
      ],
      "metadata": {
        "id": "RODUGu2M_JIk"
      },
      "execution_count": 72,
      "outputs": []
    }
  ]
}